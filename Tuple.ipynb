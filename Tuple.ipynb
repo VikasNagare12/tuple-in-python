{
 "cells": [
  {
   "cell_type": "markdown",
   "metadata": {},
   "source": [
    "# Tuple in Python \n",
    " - Inside tupe we can add no of elements \n",
    " - Tuple are immutable we can not change, add, modify, delete tuple elements\n",
    " - Tuple preserve insertion order\n",
    " - Tuple duplicate elements inside tuple \n",
    " - We can add heterogeneous elements in tuple\n",
    " - Tuple preserve insertion order and differentiate object by using index\n",
    " - Both the positive and negative (+,-) index are allowed inside tuple\n",
    " - Tuple represente in () with comma , seperated value \n",
    " - Tuple can we created without parentheses\n"
   ]
  },
  {
   "cell_type": "markdown",
   "metadata": {},
   "source": [
    "### Different way to create a Tuple\n",
    "\n",
    "- With parentheses\n",
    "- Without parentheses\n",
    "- tuple() \n"
   ]
  },
  {
   "cell_type": "code",
   "execution_count": 10,
   "metadata": {},
   "outputs": [
    {
     "name": "stdout",
     "output_type": "stream",
     "text": [
      "tuple creation with parenthesis:\n",
      "(1, 2, 3, 4, 5)\n",
      "\n",
      "tuple creation without parentheses : \n",
      "(10, 20, 30)\n",
      "\n",
      "tuple creation using tuple() :\n",
      "(2, 4, 5, 6, 7, 8, 9)\n"
     ]
    }
   ],
   "source": [
    "#tuple object with parentheses\n",
    "tup1=(1,2,3,4,5)\n",
    "print('tuple creation with parenthesis:\\n{}'.format(tup1))\n",
    "\n",
    "#tuple object without parentheses\n",
    "tup2=10,20,30\n",
    "print('\\ntuple creation without parentheses : \\n{}'.format(tup2))\n",
    "\n",
    "#creating tuple with tuple()\n",
    "tup3=tuple((2,4,5,6,7,8,9))\n",
    "print('\\ntuple creation using tuple() :\\n{}'.format(tup3))\n"
   ]
  },
  {
   "cell_type": "markdown",
   "metadata": {},
   "source": [
    "### Important points while creating tuple\n",
    "\n",
    "- tuple object should be separated by comma otherwise it treated as normal object\n"
   ]
  },
  {
   "cell_type": "code",
   "execution_count": 11,
   "metadata": {},
   "outputs": [
    {
     "name": "stdout",
     "output_type": "stream",
     "text": [
      "var type is <class 'int'> not tuple because it not separated by comma\n",
      "\n",
      "tup1 type is <class 'tuple'> is tuple because is separated by comma\n"
     ]
    }
   ],
   "source": [
    "#It is not consider as tuple\n",
    "var=(10)\n",
    "print('var type is {} not tuple because it not separated by comma'.format(type(var)))\n",
    "\n",
    "#Tuple object with one element\n",
    "tup1=(10,)\n",
    "\n",
    "print('\\ntup1 type is {} is tuple because is separated by comma'.format(type(tup1)))\n",
    "\n"
   ]
  },
  {
   "cell_type": "markdown",
   "metadata": {},
   "source": [
    "### Accessing tuple elements\n",
    "- index \n",
    "- slice operator"
   ]
  },
  {
   "cell_type": "code",
   "execution_count": 12,
   "metadata": {},
   "outputs": [
    {
     "name": "stdout",
     "output_type": "stream",
     "text": [
      "Tuple elements \n",
      "(1, 2, 3, 4, 5, 6, 7, 8, 9, 10, 11, 12, 13, 14, 15, 16, 17, 18, 19)\n",
      "\n",
      "0 index element of tuple is  1\n",
      "\n",
      "-1 index element of tuple is 19\n",
      "\n",
      "\n",
      "[:] it gives all elements of tuple \n",
      "(1, 2, 3, 4, 5, 6, 7, 8, 9, 10, 11, 12, 13, 14, 15, 16, 17, 18, 19)\n",
      "\n",
      "\n",
      "[::2] Alternative elements of tuple\n",
      "(1, 3, 5, 7, 9, 11, 13, 15, 17, 19)\n",
      "\n",
      "\n",
      "[-5:] last 5 elements of tuple\n",
      "(15, 16, 17, 18, 19)\n"
     ]
    }
   ],
   "source": [
    "#Creating tuple \n",
    "tup= tuple(range(1,20))\n",
    "print('Tuple elements \\n{}'.format(tup))\n",
    "\n",
    "# accessing elements using index\n",
    "print('\\n0 index element of tuple is  {}'.format(tup[0]))\n",
    "print('\\n-1 index element of tuple is {}'.format(tup[-1]))\n",
    "\n",
    "#Accessing tuple element using slice operator\n",
    "print('\\n\\n[:] it gives all elements of tuple \\n{}'.format(tup[:]))\n",
    "print('\\n\\n[::2] Alternative elements of tuple\\n{}'.format(tup[::2]))\n",
    "print('\\n\\n[-5:] last 5 elements of tuple\\n{}'.format(tup[-5::]))\n",
    "\n"
   ]
  },
  {
   "cell_type": "markdown",
   "metadata": {},
   "source": [
    "### Mathematical operators on tuple\n",
    "- Concatenation operator   +\n",
    "- Repetition operator  *\n"
   ]
  },
  {
   "cell_type": "code",
   "execution_count": 13,
   "metadata": {},
   "outputs": [
    {
     "name": "stdout",
     "output_type": "stream",
     "text": [
      "Concatenated tuple is :  (10, 20, 30, 40, 50, 60)\n",
      "Repetition of tuple is : (10, 20, 30, 10, 20, 30)\n"
     ]
    }
   ],
   "source": [
    "tup1=(10,20,30)\n",
    "tup2=(40,50,60)\n",
    "\n",
    "# concatenation operator\n",
    "tup3=tup1+tup2\n",
    "\n",
    "print('Concatenated tuple is : ',tup3)\n",
    "\n",
    "# repetition operator\n",
    "tup4=tup1*2\n",
    "print('Repetition of tuple is :',tup4)\n"
   ]
  },
  {
   "cell_type": "markdown",
   "metadata": {},
   "source": [
    "### Function Applicable to tuple\n",
    "\n",
    "- len()\n",
    "- count()\n",
    "- index()\n",
    "- sorted()\n",
    "- min()\n",
    "- max()"
   ]
  },
  {
   "cell_type": "code",
   "execution_count": 14,
   "metadata": {},
   "outputs": [
    {
     "name": "stdout",
     "output_type": "stream",
     "text": [
      "10 Elements present inside tuple\n",
      "\n",
      "5 occurs 1 time in tuple\n",
      "\n",
      "index of 5 is 5\n",
      "\n",
      "Sorted List is : \n",
      "[0, 1, 2, 3, 4, 5, 6, 7, 8, 9]\n",
      "\n",
      "Min element from tuple is : 0\n",
      "\n",
      "Max element from tuple is : 9\n"
     ]
    }
   ],
   "source": [
    "tup1=tuple(range(10))\n",
    "\n",
    "#len() return number of elements present inside tuple\n",
    "len_tuple=len(tup1)\n",
    "print('{} Elements present inside tuple'.format(len_tuple))\n",
    "\n",
    "#count() return number of occurrences of given element in the tuple\n",
    "count=tup1.count(5)\n",
    "print('\\n5 occurs {} time in tuple'.format(count))\n",
    "\n",
    "#index() returns index of first occurrence of the given element\n",
    "index=tup1.index(5)\n",
    "print('\\nindex of 5 is {}'.format(index))\n",
    "\n",
    "#sorted() returns sorted list\n",
    "List=sorted(tup1)\n",
    "print('\\nSorted List is : \\n{}'.format(List))\n",
    "\n",
    "#min() return min element from tuple\n",
    "Min=min(tup1)\n",
    "print('\\nMin element from tuple is : {}'.format(Min))\n",
    "\n",
    "#max() return max element from list\n",
    "Max=max(tup1)\n",
    "print('\\nMax element from tuple is : {}'.format(Max))\n",
    "\n",
    "\n"
   ]
  },
  {
   "cell_type": "markdown",
   "metadata": {},
   "source": [
    "####  if you to download this jupyter notebook then click on this github link\n",
    "[blue_text](https://www.youtube.com/results?search_query=swami+sarvapriyananda)\n"
   ]
  },
  {
   "cell_type": "code",
   "execution_count": null,
   "metadata": {},
   "outputs": [],
   "source": []
  }
 ],
 "metadata": {
  "kernelspec": {
   "display_name": "Python 3",
   "language": "python",
   "name": "python3"
  },
  "language_info": {
   "codemirror_mode": {
    "name": "ipython",
    "version": 3
   },
   "file_extension": ".py",
   "mimetype": "text/x-python",
   "name": "python",
   "nbconvert_exporter": "python",
   "pygments_lexer": "ipython3",
   "version": "3.8.3"
  }
 },
 "nbformat": 4,
 "nbformat_minor": 4
}
